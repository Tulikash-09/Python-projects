{
  "nbformat": 4,
  "nbformat_minor": 0,
  "metadata": {
    "colab": {
      "name": "Weather app code.ipynb",
      "provenance": [],
      "authorship_tag": "ABX9TyORUEH296fKCLPa3jWzq2oP",
      "include_colab_link": true
    },
    "kernelspec": {
      "name": "python3",
      "display_name": "Python 3"
    },
    "language_info": {
      "name": "python"
    }
  },
  "cells": [
    {
      "cell_type": "markdown",
      "metadata": {
        "id": "view-in-github",
        "colab_type": "text"
      },
      "source": [
        "<a href=\"https://colab.research.google.com/github/Tulikash-09/Python-projects/blob/main/Weather_app_code.ipynb\" target=\"_parent\"><img src=\"https://colab.research.google.com/assets/colab-badge.svg\" alt=\"Open In Colab\"/></a>"
      ]
    },
    {
      "cell_type": "code",
      "metadata": {
        "id": "Gk7FrwdWOeG1"
      },
      "source": [
        "import requests # sending requests to any web page \n",
        "from pprint import pprint"
      ],
      "execution_count": 2,
      "outputs": []
    },
    {
      "cell_type": "code",
      "metadata": {
        "colab": {
          "base_uri": "https://localhost:8080/"
        },
        "id": "N1xSBT9ZS1ug",
        "outputId": "da4d503b-b132-4db7-eab7-01f92ed6743b"
      },
      "source": [
        "API_key = '8498a4add516fc3a911d97761784ce4d'\n",
        "\n",
        "city = input(\"Enter the city name: \")\n",
        "\n",
        "base_url = 'http://api.openweathermap.org/data/2.5/weather?appid=' + API_key + \"&q=\" + city\n"
      ],
      "execution_count": 11,
      "outputs": [
        {
          "output_type": "stream",
          "text": [
            "Enter the city name: Delhi\n"
          ],
          "name": "stdout"
        }
      ]
    },
    {
      "cell_type": "code",
      "metadata": {
        "id": "Qc9T02v-TWtQ"
      },
      "source": [
        "weather_data = requests.get(base_url).json()\n",
        "\n",
        "pprint(weather_data)"
      ],
      "execution_count": null,
      "outputs": []
    },
    {
      "cell_type": "code",
      "metadata": {
        "id": "ukCIjkV9T81j"
      },
      "source": [
        ""
      ],
      "execution_count": null,
      "outputs": []
    }
  ]
}